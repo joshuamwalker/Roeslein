{
  "nbformat": 4,
  "nbformat_minor": 0,
  "metadata": {
    "colab": {
      "provenance": [],
      "toc_visible": true,
      "authorship_tag": "ABX9TyPY/0mgX1BVE3fYIwb6LXEg",
      "include_colab_link": true
    },
    "kernelspec": {
      "name": "python3",
      "display_name": "Python 3"
    },
    "language_info": {
      "name": "python"
    }
  },
  "cells": [
    {
      "cell_type": "markdown",
      "metadata": {
        "id": "view-in-github",
        "colab_type": "text"
      },
      "source": [
        "<a href=\"https://colab.research.google.com/github/joshuamwalker/Roeslein/blob/main/MonteCarlo.ipynb\" target=\"_parent\"><img src=\"https://colab.research.google.com/assets/colab-badge.svg\" alt=\"Open In Colab\"/></a>"
      ]
    },
    {
      "cell_type": "markdown",
      "source": [
        "# Define Raw Instrument Measurement Functions"
      ],
      "metadata": {
        "id": "M929jTWdv62R"
      }
    },
    {
      "cell_type": "code",
      "execution_count": 1,
      "metadata": {
        "id": "vp6sQsDPXFdW"
      },
      "outputs": [],
      "source": [
        "import numpy as np\n",
        "\n",
        "class generic_instrument:\n",
        "  '''\n",
        "  Input Arguments:\n",
        "    ActualValue: Actual value of the parameter the instrument is measuring\n",
        "    PctError: Percent error of the instrument (percentage of actual value)\n",
        "    ErrorType: Normal or Uniform\n",
        "    Ni: Number of iterations to generate (typ. 1e6)\n",
        "    EngUnits: User-defined string, used in plotting\n",
        "  '''\n",
        "  def __init__(self, ActualValue, PctError, ErrorType, Ni, EngUnits=''):\n",
        "    self.ActualValue = ActualValue\n",
        "    self.PctError = PctError\n",
        "    self.ErrorType = ErrorType\n",
        "    self.EngUnits = EngUnits\n",
        "    if self.ErrorType == 'Normal':\n",
        "      # For normal distribution, PctError is taken as the 1-sigma value\n",
        "      self.StdDev = self.ActualValue * self.PctError / 100\n",
        "      self.MeasuredValues = np.random.normal(self.ActualValue, self.StdDev, int(Ni)) # Normal error distribution\n",
        "      self.MinMeas = self.ActualValue - self.StdDev # Not used for computation but provided for assistance when plotting\n",
        "      self.MaxMeas = self.ActualValue + self.StdDev # Not used for computation but provided for assistance when plotting\n",
        "    elif self.ErrorType == 'Uniform':\n",
        "      # For uniform distribution, PctError is taken as the min/max distance from the actual value value\n",
        "      self.MinMeas = self.ActualValue * (1 - self.PctError / 100) # Minimum measurement\n",
        "      self.MaxMeas = self.ActualValue * (1 + self.PctError / 100) # Maximum measurement\n",
        "      self.MeasuredValues = np.random.uniform(self.MinMeas, self.MaxMeas, int(Ni)) # Uniform error distribution\n",
        "    else:\n",
        "      print('Error: Error distribution type not specified')\n",
        "      return 0\n",
        "    self.StdDev = np.std(self.MeasuredValues) # Not used for computation but provided for assistance when plotting\n",
        "    if self.ActualValue != 0:\n",
        "      self.RelStdDev = self.StdDev / self.ActualValue # Not used for computation but provided for assistance when plotting\n",
        "    else:\n",
        "      self.RelStdDev = 0\n",
        "\n",
        "class ultrasonic_flowmeter():\n",
        "  def __init__(self, X_config, X_mixture, PctError, ErrorType, Ni, PrintOutput, StreamName):\n",
        "    '''\n",
        "    Error and ErrorType should be that of the raw speed of sound measurement\n",
        "    '''\n",
        "    if 1: # Molecular weights and adiabatic indices of components\n",
        "      M_H = 1.008\n",
        "      M_C = 12.011\n",
        "      M_N = 14.007\n",
        "      M_O = 15.999\n",
        "      M_CH4 = M_C + M_H * 4\n",
        "      M_CO2 = M_C + M_O * 2\n",
        "      M_O2 = M_O * 2\n",
        "      M_N2 = M_N * 2\n",
        "      M_H2O = M_O + M_H * 2\n",
        "      gamma_CH4 = 1.32\n",
        "      gamma_CO2 = 1.28\n",
        "      gamma_O2 = 1.40\n",
        "      gamma_N2 = 1.40\n",
        "      gamma_H2O = 1.33\n",
        "    M_arr = np.array([M_CH4, M_CO2, M_O2, M_N2, M_H2O])\n",
        "    gamma_arr = np.array([gamma_CH4, gamma_CO2, gamma_O2, gamma_N2, gamma_H2O])\n",
        "    R = 8.314 # J/mol/K\n",
        "    T = 301.4 # K\n",
        "    # Calculate internal device configuration parameters\n",
        "    self.X_config = np.array(X_config) / np.sum(X_config) * 100 # Normalize calibration mixture composition\n",
        "    self.M_other_config = np.dot(M_arr[1:], self.X_config[1:] / np.sum(self.X_config[1:])) # Calculate molar mass of non-CH4 compounds\n",
        "    self.gamma_other_config = np.dot(gamma_arr[1:], self.X_config[1:] / np.sum(self.X_config[1:]))\n",
        "    # Calculate actual values of mixture\n",
        "    self.X_mixture = np.array(X_mixture) / np.sum(X_mixture) * 100 # Normalize mixture composition\n",
        "    self.ActualValue = self.X_mixture[0]\n",
        "    self.M_mixture = np.dot(M_arr, self.X_mixture / 100) # Calculate molar mass of entire mixture\n",
        "    self.gamma = np.dot(gamma_arr, self.X_mixture / 100) # Calculate gamma (adiabatic index) of entire mixture\n",
        "    self.c_mixture = np.sqrt(self.gamma * R * T * 1000 / self.M_mixture)\n",
        "    # Calculate flowmeter measured speed of sound, accounting for instrument error\n",
        "    self.c_measured = generic_instrument(self.c_mixture, PctError, ErrorType, Ni, '%mol').MeasuredValues # Measured molar mass of entire mixture\n",
        "    # Replicate flowmeter internal calculation\n",
        "    self.X_meas_numerator = self.gamma_other_config * R * T * 1000 / self.c_measured**2 - self.M_other_config\n",
        "    self.X_meas_denominator = (M_CH4 - self.M_other_config) - (gamma_CH4 - self.gamma_other_config) * (R * T * 1000 / self.c_measured**2)\n",
        "    self.MeasuredValues = self.X_meas_numerator / self.X_meas_denominator * 100\n",
        "    self.Mean_meas = np.mean(self.MeasuredValues)\n",
        "    self.AbsErr = self.Mean_meas - self.X_mixture[0]\n",
        "    self.RelErr = self.AbsErr / self.X_mixture[0] * 100\n",
        "    self.StdDev = np.std(self.MeasuredValues)\n",
        "    self.RelStdDev = self.StdDev / self.X_mixture[0] * 100\n",
        "    if PrintOutput:\n",
        "      print(StreamName)\n",
        "      print('     Actual CH4 = %1.3f %%mol' % self.ActualValue)\n",
        "      print('      M_mixture = %1.3f g/mol' % self.M_mixture)\n",
        "      print('   Measured CH4 = %1.3f %%mol' % self.Mean_meas)\n",
        "      print(' Absolute Error = %1.3f %%mol' % self.AbsErr)\n",
        "      print(' Relative Error = %1.3f %%' % self.RelErr)\n",
        "      print('      AbsStdDev = %1.3f %%mol' % self.StdDev)\n",
        "      print('      RelStdDev = %1.3f %%' % self.RelStdDev)\n",
        "      print()"
      ]
    },
    {
      "cell_type": "markdown",
      "source": [
        "# Define Simulation Execution Functions"
      ],
      "metadata": {
        "id": "zTNYqPAHwOWP"
      }
    },
    {
      "cell_type": "code",
      "source": [
        "# Define function to simulate raw measurements for each instrument\n",
        "def RunSim(F_F, X_F, F_P, X_P, distribution='Normal', sigma_multiplier=2, printout=False):\n",
        "  # Define error\n",
        "  e_FF = 0.72 / sigma_multiplier # %or (relative error)\n",
        "  e_XF0 = 1.00 / sigma_multiplier # mol% (absolute error)\n",
        "  e_XF1 = 1.20 / sigma_multiplier # mol% (absolute error)\n",
        "  e_FP = 0.25 / sigma_multiplier # %or (relative error)\n",
        "  e_XP = 3.00 / sigma_multiplier # mol% (absolute error)\n",
        "\n",
        "  # Use generic-instrument function (defined above) to calculate series of random measured values for each instrument\n",
        "  FT_3131 = generic_instrument(F_F, e_FF, distribution, n, EngUnits='SCFM').MeasuredValues # SCFM (rel. error)\n",
        "  AT_3131_e0 = 0 + (100 - generic_instrument(100, e_XF0, distribution, n, EngUnits='mol%').MeasuredValues) # mol% (abs. error)\n",
        "  AT_3131_e1 = 0 + (100 - generic_instrument(100, e_XF1, distribution, n, EngUnits='mol%').MeasuredValues) # mol% (abs. error)\n",
        "  FT_3732 = generic_instrument(F_P, e_FP, distribution, n, EngUnits='SCFM').MeasuredValues # SCFM (rel. error)\n",
        "  AT_3753 = X_P + (100 - generic_instrument(100, e_XP, distribution, n, EngUnits='mol%').MeasuredValues) # mol% (abs. error)\n",
        "\n",
        "  # Run calculations on instrument readings\n",
        "  CH4_F = FT_3131 * (X_F + AT_3131_e0 + AT_3131_e1) / 100\n",
        "  CH4_P = FT_3732 * AT_3753 / 100\n",
        "  CH4_T = CH4_F - CH4_P\n",
        "  R_meas = CH4_P / CH4_F * 100\n",
        "\n",
        "  # Print to console if desired\n",
        "  if printout:\n",
        "    print(np.std(CH4_F)*sigma_multiplier)\n",
        "    print(np.std(CH4_P)*sigma_multiplier)\n",
        "    print(np.std(CH4_T)*sigma_multiplier)\n",
        "    print(np.std(CH4_T)*sigma_multiplier/(F_F*X_F)*1e4)\n",
        "    print(np.mean(R_meas))\n",
        "    print(np.std(R_meas)*sigma_multiplier)\n",
        "  return CH4_F, CH4_P, CH4_T"
      ],
      "metadata": {
        "id": "c1EZO8E1vYME"
      },
      "execution_count": 2,
      "outputs": []
    },
    {
      "cell_type": "markdown",
      "source": [
        "# Define Plotting Functions"
      ],
      "metadata": {
        "id": "10oA3kZPwBeg"
      }
    },
    {
      "cell_type": "code",
      "source": [
        "import matplotlib.pyplot as plt\n",
        "import seaborn as sns\n",
        "import numpy as np\n",
        "\n",
        "def plot_hist_imbalance(CH4_T, ax, nbins=50, title='Methane Imbalance (SCFM_CH4)', format=True):\n",
        "  neg_imbalance_pct = np.sum(CH4_T < 0) / len(CH4_T)\n",
        "  std_imbalance = np.std(CH4_T, ddof=1)\n",
        "\n",
        "  bin_edges = np.linspace(CH4_T.min(), CH4_T.max(), nbins + 1)\n",
        "\n",
        "  # Plot histogram\n",
        "  bars = sns.histplot(CH4_T, bins=nbins, stat='count', ax=ax, color='steelblue', alpha=0.8, edgecolor='none', zorder=4)\n",
        "\n",
        "  # Shade bars < 0\n",
        "  for patch in bars.patches:\n",
        "    if patch.get_x() < 0:\n",
        "      patch.set_facecolor('crimson')\n",
        "      patch.set_alpha(0.8)\n",
        "\n",
        "  if format:\n",
        "    # Format plot\n",
        "    ax.set_xlabel('Methane Imbalance (SCFM_CH4)')\n",
        "    ax.set_xlim([-2.5,5])\n",
        "    ax.set_yticks([])\n",
        "    ax.set_ylabel(\"\")\n",
        "    ax.set_yticklabels([])\n",
        "    ax.grid(False)\n",
        "    ax.set_title(title)\n",
        "\n",
        "    # Annotation at top-left\n",
        "    ax.annotate(f'{pct_neg_imb:.1%} ≤ 0',\n",
        "                xy=(0.02, 0.95), xycoords='axes fraction',\n",
        "                ha='left', va='top', fontsize=10,\n",
        "                bbox=dict(boxstyle=\"round,pad=0.3\", fc=\"white\", ec=\"gray\", lw=0.8))\n",
        "  return neg_imbalance_pct, std_imbalance\n",
        "\n",
        "def plot_hist_measurements(CH4_F, CH4_P, CH4_T, ax, nbins=50, title=\"Methane In vs. Out\", xlims=[-5,65], vlines=None):\n",
        "  sns.histplot(CH4_F, bins=nbins, stat='count', ax=ax, color='saddlebrown', alpha=0.8, edgecolor='none', label='Inlet CH4 Measurement', zorder=5)\n",
        "  sns.histplot(CH4_P, bins=nbins,  stat='count', ax=ax, color='orange', alpha=0.8, edgecolor='none', label='Product CH4 Measurement', zorder=4)\n",
        "  # sns.histplot(CH4_T, bins=nbins,  stat='count', ax=ax, color='steelblue', alpha=0.8, edgecolor='none', label='Tailgas CH4 (Calculated)', zorder=3)\n",
        "  neg_imbalance_pct, std_imbalance = plot_hist_imbalance(CH4_T, ax, nbins=50, title='Methane Imbalance (SCFM_CH4)', format=False)\n",
        "  bars = sns.histplot([-100], ax=ax, color='steelblue', alpha=0.8, edgecolor='none', label=f'Tailgas CH4 (Calculated)\\n(Accuracy ±{std_imbalance*2:.2f} SCFM_CH4)', zorder=3)\n",
        "  bars = sns.histplot([-100], ax=ax, color='crimson', alpha=0.8, edgecolor='none', label=f'Measured Negative Imbalances\\n({neg_imbalance_pct:.1%} of measurements)', zorder=3)\n",
        "\n",
        "  # Draw vertical lines at nominal flowrates\n",
        "  for vline in vlines:\n",
        "    ax.axvline(x=vline, color='black', linestyle='--', linewidth=1.5, zorder=10)\n",
        "\n",
        "  ax.set_xlim(xlims)\n",
        "  ax.set_title(title)\n",
        "  ax.set_xlabel('Measured Methane Flowrates (SCFM_CH4)')\n",
        "  ax.set_ylabel(\"\")\n",
        "  ax.set_yticks([])\n",
        "  ax.set_yticklabels([])\n",
        "  ax.grid(False)\n",
        "  ax.legend(loc='upper center')\n",
        "\n",
        "def format_sigfigs(x, sig=2):\n",
        "  if isinstance(x, float):\n",
        "    return f'{x:.{sig}f}'\n",
        "  return x"
      ],
      "metadata": {
        "id": "OWtt7AaVI9YS"
      },
      "execution_count": 3,
      "outputs": []
    },
    {
      "cell_type": "markdown",
      "source": [
        "# Run Simulations"
      ],
      "metadata": {
        "id": "6mHugyHzvqEE"
      }
    },
    {
      "cell_type": "code",
      "source": [
        "\n",
        "\n",
        "# Run multiple sims, output in histogram format\n",
        "if 0:\n",
        "  n = 1e5\n",
        "  Rs = np.array([96, 97, 98])  # % Recovery\n",
        "  F_F = 100 # SCFM\n",
        "  X_F = 60 # mol%\n",
        "  X_P = 98 # mol%\n",
        "  F_Ps = (F_F * X_F * Rs) / X_P / 100 # SCFM\n",
        "  F_Ts = F_F - F_Ps # SCFM\n",
        "  X_Ts = (F_F * X_F / 100 - F_Ps * X_P / 100) / F_Ts # mol%\n",
        "\n",
        "  # rows, cols = len(Rs), 1\n",
        "  rows, cols = 1, len(Rs)\n",
        "  fig, axes = plt.subplots(rows, cols, figsize=(8 * cols, 3 * rows), dpi=300)\n",
        "  # Run simulation for each recovery value\n",
        "  for i in range(len(Rs)):\n",
        "    R = Rs[i]\n",
        "    F_P = F_Ps[i]\n",
        "    # X_P = X_Ps[i]\n",
        "    CH4_F, CH4_P, CH4_T = RunSim(F_F, X_F, F_P, X_P, distribution='Normal', sigma_multiplier=2, printout=False)\n",
        "    title = f'Monte Carlo Results at {R}% Recovery'\n",
        "    plot_hist_measurements(CH4_F, CH4_P, CH4_T, ax=axes[i], nbins=50, title=title, vlines=[F_F*X_F/1e2, F_F*X_F*R/1e4, F_F*X_F*(100-R)/1e4])\n",
        "    # Show plots\n",
        "  plt.tight_layout()\n",
        "  plt.show()\n"
      ],
      "metadata": {
        "id": "GxdwFOijgOdU"
      },
      "execution_count": 4,
      "outputs": []
    },
    {
      "cell_type": "code",
      "source": [
        "import pandas as pd\n",
        "from datetime import datetime\n",
        "\n",
        "### Run multiple sims, output in tabular format\n",
        "n = 1e4\n",
        "Rs = np.array([96, 97, 98])  # % Recoveries\n",
        "F_Fs = np.array([25,40,50,75,100,150,200,350]) # Inlet Flowrates\n",
        "\n",
        "results = []\n",
        "\n",
        "# for R in Rs:\n",
        "#   for F_F in F_Fs:\n",
        "for F_F in F_Fs:\n",
        "  for R in Rs:\n",
        "    sigma_multiplier = 2\n",
        "\n",
        "    X_F = 60 # mol%\n",
        "    X_P = 98 # mol%\n",
        "    F_P = (F_F * X_F * R) / X_P / 100 # SCFM\n",
        "    F_T = F_F - F_P # SCFM\n",
        "    X_T = (F_F * X_F / 100 - F_P * X_P / 100) / F_T # mol%\n",
        "\n",
        "    CH4_F, CH4_P, CH4_T = RunSim(F_F, X_F, F_P, X_P, distribution='Normal', sigma_multiplier=sigma_multiplier, printout=False)\n",
        "\n",
        "    results.append({\n",
        "        'MGCS Model': f'RS{F_F}',\n",
        "        'Recovery (%)': R,\n",
        "        'F_P (SCFM)': F_P,\n",
        "        'X_P (mol%)': X_P,\n",
        "        'CH4_F Mean (SCFM)': np.mean(CH4_F),\n",
        "        'CH4_F AbsErr (SCFM)': np.std(CH4_F)*sigma_multiplier,\n",
        "        'CH4_F RelErr (%)': np.std(CH4_F)*sigma_multiplier/(F_F*X_F)*1e4,\n",
        "        'CH4_P Mean (SCFM)': np.mean(CH4_P),\n",
        "        'CH4_P AbsErr (SCFM)': np.std(CH4_P)*sigma_multiplier,\n",
        "        'CH4_P RelErr (%)': np.std(CH4_P)*sigma_multiplier/(F_F*X_F)*1e4,\n",
        "        'CH4_T Mean (SCFM)': np.mean(CH4_T),\n",
        "        'CH4_T AbsErr (SCFM)': np.std(CH4_T)*sigma_multiplier,\n",
        "        'CH4_T RelError (%)': np.std(CH4_T)*sigma_multiplier/(F_F*X_F)*1e4,\n",
        "        'Neg. Imb. Freq. (%)': np.sum(CH4_T < 0) / len(CH4_T) * 100\n",
        "        })\n",
        "\n",
        "df_results = pd.DataFrame(results)\n",
        "pd.set_option('display.max_rows', None)\n",
        "pd.set_option('display.max_columns', None)\n",
        "pd.set_option('display.expand_frame_repr', True)\n",
        "pd.set_option('display.width', 200)\n",
        "# print(df_results)\n",
        "\n",
        "df_results_fmt = df_results.map(format_sigfigs)\n",
        "print(df_results_fmt.to_string(index=False))\n",
        "timestamp = datetime.now().strftime('%y%m%d_%H%M%S')\n",
        "df_results.to_csv(f'sim_output_{timestamp}.csv', index=False)"
      ],
      "metadata": {
        "id": "bZFoNbTcveOm",
        "outputId": "94339a2b-f498-437d-985c-34010e67c9f0",
        "colab": {
          "base_uri": "https://localhost:8080/"
        }
      },
      "execution_count": 6,
      "outputs": [
        {
          "output_type": "stream",
          "name": "stdout",
          "text": [
            "MGCS Model  Recovery (%) F_P (SCFM)  X_P (mol%) CH4_F Mean (SCFM) CH4_F AbsErr (SCFM) CH4_F RelErr (%) CH4_P Mean (SCFM) CH4_P AbsErr (SCFM) CH4_P RelErr (%) CH4_T Mean (SCFM) CH4_T AbsErr (SCFM) CH4_T RelError (%) Neg. Imb. Freq. (%)\n",
            "      RS25            96      14.69          98             15.00                0.41             2.70             14.40                0.44             2.91              0.60                0.60               3.99                2.14\n",
            "      RS25            97      14.85          98             15.00                0.41             2.76             14.55                0.45             2.99              0.45                0.60               4.03                7.14\n",
            "      RS25            98      15.00          98             15.00                0.40             2.68             14.70                0.45             2.97              0.30                0.60               4.01               15.90\n",
            "      RS40            96      23.51          98             24.00                0.64             2.68             23.04                0.71             2.95              0.97                0.96               3.98                2.09\n",
            "      RS40            97      23.76          98             24.00                0.65             2.70             23.27                0.71             2.95              0.72                0.97               4.06                7.07\n",
            "      RS40            98      24.00          98             24.00                0.65             2.69             23.52                0.72             3.00              0.48                0.97               4.03               16.09\n",
            "      RS50            96      29.39          98             30.00                0.81             2.69             28.79                0.89             2.95              1.21                1.20               4.00                2.10\n",
            "      RS50            97      29.69          98             30.00                0.81             2.71             29.10                0.89             2.98              0.90                1.22               4.07                6.87\n",
            "      RS50            98      30.00          98             29.99                0.81             2.72             29.40                0.90             3.01              0.59                1.22               4.07               16.85\n",
            "      RS75            96      44.08          98             45.00                1.20             2.68             43.19                1.33             2.96              1.81                1.81               4.02                2.28\n",
            "      RS75            97      44.54          98             45.00                1.22             2.71             43.64                1.35             3.00              1.36                1.81               4.02                6.54\n",
            "      RS75            98      45.00          98             45.00                1.21             2.70             44.10                1.35             2.99              0.90                1.80               4.00               15.94\n",
            "     RS100            96      58.78          98             60.00                1.63             2.71             57.58                1.77             2.95              2.42                2.42               4.04                2.14\n",
            "     RS100            97      59.39          98             59.99                1.61             2.69             58.21                1.82             3.03              1.78                2.43               4.04                7.30\n",
            "     RS100            98      60.00          98             59.98                1.62             2.70             58.80                1.80             3.00              1.18                2.43               4.05               16.56\n",
            "     RS150            96      88.16          98             89.99                2.44             2.71             86.39                2.65             2.94              3.60                3.58               3.98                2.13\n",
            "     RS150            97      89.08          98             90.00                2.43             2.70             87.30                2.69             2.99              2.70                3.58               3.98                6.50\n",
            "     RS150            98      90.00          98             90.01                2.43             2.70             88.22                2.68             2.98              1.80                3.61               4.01               15.88\n",
            "     RS200            96     117.55          98            120.02                3.22             2.69            115.19                3.54             2.95              4.83                4.78               3.98                2.30\n",
            "     RS200            97     118.78          98            120.01                3.19             2.66            116.41                3.60             3.00              3.59                4.84               4.03                6.69\n",
            "     RS200            98     120.00          98            120.00                3.23             2.69            117.60                3.60             3.00              2.39                4.82               4.02               15.75\n",
            "     RS350            96     205.71          98            209.99                5.62             2.67            201.60                6.22             2.96              8.39                8.35               3.98                2.30\n",
            "     RS350            97     207.86          98            209.98                5.74             2.74            203.66                6.25             2.97              6.32                8.52               4.06                6.62\n",
            "     RS350            98     210.00          98            209.99                5.70             2.71            205.78                6.37             3.04              4.21                8.51               4.05               15.87\n"
          ]
        }
      ]
    },
    {
      "cell_type": "code",
      "source": [
        "# Scratchpad to plot misc. variables\n",
        "sns.histplot(CH4_T)"
      ],
      "metadata": {
        "id": "PjAwBDzvExhO",
        "outputId": "59e0daa7-98b8-497b-a96d-e034b03a1597",
        "colab": {
          "base_uri": "https://localhost:8080/",
          "height": 447
        }
      },
      "execution_count": 7,
      "outputs": [
        {
          "output_type": "execute_result",
          "data": {
            "text/plain": [
              "<Axes: ylabel='Count'>"
            ]
          },
          "metadata": {},
          "execution_count": 7
        },
        {
          "output_type": "display_data",
          "data": {
            "text/plain": [
              "<Figure size 640x480 with 1 Axes>"
            ],
            "image/png": "[encoded data removed]"
          },
          "metadata": {}
        }
      ]
    }
  ]
}