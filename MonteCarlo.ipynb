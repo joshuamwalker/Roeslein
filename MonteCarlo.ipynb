{
  "nbformat": 4,
  "nbformat_minor": 0,
  "metadata": {
    "colab": {
      "provenance": [],
      "authorship_tag": "ABX9TyN/O8uLSJ4eGAy7wwIyZMMM",
      "include_colab_link": true
    },
    "kernelspec": {
      "name": "python3",
      "display_name": "Python 3"
    },
    "language_info": {
      "name": "python"
    }
  },
  "cells": [
    {
      "cell_type": "markdown",
      "metadata": {
        "id": "view-in-github",
        "colab_type": "text"
      },
      "source": [
        "<a href=\"https://colab.research.google.com/github/joshuamwalker/Roeslein/blob/main/MonteCarlo.ipynb\" target=\"_parent\"><img src=\"https://colab.research.google.com/assets/colab-badge.svg\" alt=\"Open In Colab\"/></a>"
      ]
    },
    {
      "cell_type": "code",
      "execution_count": 2,
      "metadata": {
        "id": "vp6sQsDPXFdW"
      },
      "outputs": [],
      "source": [
        "import numpy as np\n",
        "\n",
        "class generic_instrument:\n",
        "  '''\n",
        "  Input Arguments:\n",
        "    ActualValue: Actual value of the parameter the instrument is measuring\n",
        "    PctError: Percent error of the instrument (percentage of actual value)\n",
        "    ErrorType: Normal or Uniform\n",
        "    Ni: Number of iterations to generate (typ. 1e6)\n",
        "    EngUnits: User-defined string, used in plotting\n",
        "  '''\n",
        "  def __init__(self, ActualValue, PctError, ErrorType, Ni, EngUnits=''):\n",
        "    self.ActualValue = ActualValue\n",
        "    self.PctError = PctError\n",
        "    self.ErrorType = ErrorType\n",
        "    self.EngUnits = EngUnits\n",
        "    if self.ErrorType == 'Normal':\n",
        "      # For normal distribution, PctError is taken as the 1-sigma value\n",
        "      self.StdDev = self.ActualValue * self.PctError / 100\n",
        "      self.MeasuredValues = np.random.normal(self.ActualValue, self.StdDev, int(Ni)) # Normal error distribution\n",
        "      self.MinMeas = self.ActualValue - self.StdDev # Not used for computation but provided for assistance when plotting\n",
        "      self.MaxMeas = self.ActualValue + self.StdDev # Not used for computation but provided for assistance when plotting\n",
        "    elif self.ErrorType == 'Uniform':\n",
        "      # For uniform distribution, PctError is taken as the min/max distance from the actual value value\n",
        "      self.MinMeas = self.ActualValue * (1 - self.PctError / 100) # Minimum measurement\n",
        "      self.MaxMeas = self.ActualValue * (1 + self.PctError / 100) # Maximum measurement\n",
        "      self.MeasuredValues = np.random.uniform(self.MinMeas, self.MaxMeas, int(Ni)) # Uniform error distribution\n",
        "    else:\n",
        "      print('Error: Error distribution type not specified')\n",
        "      return 0\n",
        "    self.StdDev = np.std(self.MeasuredValues) # Not used for computation but provided for assistance when plotting\n",
        "    if self.ActualValue != 0:\n",
        "      self.RelStdDev = self.StdDev / self.ActualValue # Not used for computation but provided for assistance when plotting\n",
        "    else:\n",
        "      self.RelStdDev = 0\n",
        "\n",
        "class ultrasonic_flowmeter():\n",
        "  def __init__(self, X_config, X_mixture, PctError, ErrorType, Ni, PrintOutput, StreamName):\n",
        "    '''\n",
        "    Error and ErrorType should be that of the raw speed of sound measurement\n",
        "    '''\n",
        "    if 1: # Molecular weights and adiabatic indices of components\n",
        "      M_H = 1.008\n",
        "      M_C = 12.011\n",
        "      M_N = 14.007\n",
        "      M_O = 15.999\n",
        "      M_CH4 = M_C + M_H * 4\n",
        "      M_CO2 = M_C + M_O * 2\n",
        "      M_O2 = M_O * 2\n",
        "      M_N2 = M_N * 2\n",
        "      M_H2O = M_O + M_H * 2\n",
        "      gamma_CH4 = 1.32\n",
        "      gamma_CO2 = 1.28\n",
        "      gamma_O2 = 1.40\n",
        "      gamma_N2 = 1.40\n",
        "      gamma_H2O = 1.33\n",
        "    M_arr = np.array([M_CH4, M_CO2, M_O2, M_N2, M_H2O])\n",
        "    gamma_arr = np.array([gamma_CH4, gamma_CO2, gamma_O2, gamma_N2, gamma_H2O])\n",
        "    R = 8.314 # J/mol/K\n",
        "    T = 301.4 # K\n",
        "    # Calculate internal device configuration parameters\n",
        "    self.X_config = np.array(X_config) / np.sum(X_config) * 100 # Normalize calibration mixture composition\n",
        "    self.M_other_config = np.dot(M_arr[1:], self.X_config[1:] / np.sum(self.X_config[1:])) # Calculate molar mass of non-CH4 compounds\n",
        "    self.gamma_other_config = np.dot(gamma_arr[1:], self.X_config[1:] / np.sum(self.X_config[1:]))\n",
        "    # Calculate actual values of mixture\n",
        "    self.X_mixture = np.array(X_mixture) / np.sum(X_mixture) * 100 # Normalize mixture composition\n",
        "    self.ActualValue = self.X_mixture[0]\n",
        "    self.M_mixture = np.dot(M_arr, self.X_mixture / 100) # Calculate molar mass of entire mixture\n",
        "    self.gamma = np.dot(gamma_arr, self.X_mixture / 100) # Calculate gamma (adiabatic index) of entire mixture\n",
        "    self.c_mixture = np.sqrt(self.gamma * R * T * 1000 / self.M_mixture)\n",
        "    # Calculate flowmeter measured speed of sound, accounting for instrument error\n",
        "    self.c_measured = generic_instrument(self.c_mixture, PctError, ErrorType, Ni, '%mol').MeasuredValues # Measured molar mass of entire mixture\n",
        "    # Replicate flowmeter internal calculation\n",
        "    self.X_meas_numerator = self.gamma_other_config * R * T * 1000 / self.c_measured**2 - self.M_other_config\n",
        "    self.X_meas_denominator = (M_CH4 - self.M_other_config) - (gamma_CH4 - self.gamma_other_config) * (R * T * 1000 / self.c_measured**2)\n",
        "    self.MeasuredValues = self.X_meas_numerator / self.X_meas_denominator * 100\n",
        "    self.Mean_meas = np.mean(self.MeasuredValues)\n",
        "    self.AbsErr = self.Mean_meas - self.X_mixture[0]\n",
        "    self.RelErr = self.AbsErr / self.X_mixture[0] * 100\n",
        "    self.StdDev = np.std(self.MeasuredValues)\n",
        "    self.RelStdDev = self.StdDev / self.X_mixture[0] * 100\n",
        "    if PrintOutput:\n",
        "      print(StreamName)\n",
        "      print('     Actual CH4 = %1.3f %%mol' % self.ActualValue)\n",
        "      print('      M_mixture = %1.3f g/mol' % self.M_mixture)\n",
        "      print('   Measured CH4 = %1.3f %%mol' % self.Mean_meas)\n",
        "      print(' Absolute Error = %1.3f %%mol' % self.AbsErr)\n",
        "      print(' Relative Error = %1.3f %%' % self.RelErr)\n",
        "      print('      AbsStdDev = %1.3f %%mol' % self.StdDev)\n",
        "      print('      RelStdDev = %1.3f %%' % self.RelStdDev)\n",
        "      print()"
      ]
    },
    {
      "cell_type": "code",
      "source": [
        "import matplotlib.pyplot as plt\n",
        "import seaborn as sns\n",
        "import numpy as np\n",
        "\n",
        "# Reuse from earlier\n",
        "def plot_histogram_with_cdf(E, title=\"Histogram with CDF Overlay\", ax=None):\n",
        "  sorted_E = np.sort(E)\n",
        "  cdf = np.arange(1, len(sorted_E) + 1) / len(sorted_E)\n",
        "  sorted_E = np.insert(sorted_E, 0, sorted_E[0])\n",
        "  cdf = np.insert(cdf, 0, 0)\n",
        "  cdf_at_0 = np.sum(E <= 0) / len(E)\n",
        "\n",
        "  if ax is None:\n",
        "    fig, ax1 = plt.subplots(figsize=(6, 4))\n",
        "  else:\n",
        "    ax1 = ax\n",
        "\n",
        "  ax1.plot(sorted_E, cdf, color='darkred', linewidth=2, label='CDF', zorder=5)\n",
        "  ax1.set_ylabel('Cumulative Probability')\n",
        "  ax1.set_ylim(0, 1)\n",
        "\n",
        "  ax2 = ax1.twinx()\n",
        "  sns.histplot(E, bins=50, stat='density', ax=ax2,\n",
        "              color='steelblue', alpha=0.7, edgecolor='none', zorder=4)\n",
        "\n",
        "  ax2.set_yticks([])      # Remove y-axis ticks\n",
        "  ax2.set_ylabel(\"\")      # Remove y-axis label\n",
        "  ax2.set_yticklabels([]) # Remove tick labels\n",
        "  ax2.grid(False)         # Remove gridlines\n",
        "\n",
        "  lines1, labels1 = ax1.get_legend_handles_labels()\n",
        "  lines2, labels2 = ax2.get_legend_handles_labels()\n",
        "  # ax1.legend(lines1 + lines2, labels1 + labels2, loc='upper left')\n",
        "\n",
        "  ax2.annotate(f'CDF(0) = {cdf_at_0:.1%}', xy=(0, cdf_at_0), xytext=(0.05, cdf_at_0 + 0.1),\n",
        "               textcoords='data', arrowprops=dict(arrowstyle='->', color='gray'),\n",
        "               fontsize=10, color='black', zorder=6)\n",
        "\n",
        "  ax1.set_title(title)\n",
        "\n",
        "  if ax is None:\n",
        "    plt.tight_layout()\n",
        "    plt.show()\n",
        "\n",
        "# Generic plot grid function\n",
        "def plot_simulation_grid(sim_outputs, titles=None):\n",
        "  n = len(sim_outputs)\n",
        "  cols = min(3, n)\n",
        "  rows = int(np.ceil(n / cols))\n",
        "\n",
        "  fig, axes = plt.subplots(rows, cols, figsize=(6 * cols, 4 * rows))\n",
        "  axes = np.array(axes).reshape(-1)\n",
        "\n",
        "  for i, E in enumerate(sim_outputs):\n",
        "    title = titles[i] if titles else f\"Sim {i+1}\"\n",
        "    plot_histogram_with_cdf(E, title=title, ax=axes[i])\n",
        "\n",
        "  # Hide any unused axes\n",
        "  for j in range(i + 1, len(axes)):\n",
        "    axes[j].axis('off')\n",
        "\n",
        "  plt.tight_layout()\n",
        "  plt.show()"
      ],
      "metadata": {
        "id": "7s_YpDSxh0XC"
      },
      "execution_count": 15,
      "outputs": []
    },
    {
      "cell_type": "code",
      "source": [
        "# Given simulation conditions\n",
        "n = 1e4\n",
        "F_F = 100\n",
        "X_F = 60\n",
        "F_P = 60\n",
        "Rs = np.array([96, 97, 98, 99])  # Recovery percentages\n",
        "X_Ps = F_F * X_F / 100 * Rs / 100 / F_P * 100  # Calculated permeate compositions\n",
        "print(X_Ps)\n",
        "F_Ts = F_F - F_P\n",
        "X_Ts = (F_F * X_F / 100 - F_P * X_Ps / 100) / F_Ts\n",
        "print(X_Ts)\n",
        "\n",
        "sim_outputs = []\n",
        "titles = []\n",
        "\n",
        "# Run simulations\n",
        "for R, X_P in zip(Rs, X_Ps):\n",
        "  FT_3131 = generic_instrument(F_F, 0.72 / 2, 'Normal', n, EngUnits='SCFM')\n",
        "  AT_3131_e0 = generic_instrument(0, 1.00 / 2, 'Normal', n, EngUnits='mol%')\n",
        "  AT_3131_e1 = generic_instrument(0, 1.20 / 2, 'Normal', n, EngUnits='mol%')\n",
        "  FT_3732 = generic_instrument(F_P, 0.25 / 2, 'Normal', n, EngUnits='SCFM')\n",
        "  AT_3753 = generic_instrument(X_P, 3.00 / 2, 'Normal', n, EngUnits='mol%')\n",
        "\n",
        "  E = FT_3131.MeasuredValues * (X_F + AT_3131_e0.MeasuredValues + AT_3131_e1.MeasuredValues) / 100 - FT_3732.MeasuredValues * AT_3753.MeasuredValues / 100\n",
        "\n",
        "  sim_outputs.append(E)\n",
        "  titles.append(f'R={R}%')\n",
        "\n",
        "# Plot the results\n",
        "plot_simulation_grid(sim_outputs, titles)"
      ],
      "metadata": {
        "id": "GxdwFOijgOdU",
        "outputId": "6e24c1f5-aebb-4352-dab8-462b3b27bdb5",
        "colab": {
          "base_uri": "https://localhost:8080/",
          "height": 1000
        }
      },
      "execution_count": 16,
      "outputs": [
        {
          "output_type": "stream",
          "name": "stdout",
          "text": [
            "[96. 97. 98. 99.]\n",
            "[0.06  0.045 0.03  0.015]\n"
          ]
        },
        {
          "output_type": "error",
          "ename": "TypeError",
          "evalue": "_AxesBase.twinx() got an unexpected keyword argument 'zorder'",
          "traceback": [
            "\u001b[0;31m---------------------------------------------------------------------------\u001b[0m",
            "\u001b[0;31mTypeError\u001b[0m                                 Traceback (most recent call last)",
            "\u001b[0;32m/tmp/ipython-input-16-390383827.py\u001b[0m in \u001b[0;36m<cell line: 0>\u001b[0;34m()\u001b[0m\n\u001b[1;32m     28\u001b[0m \u001b[0;34m\u001b[0m\u001b[0m\n\u001b[1;32m     29\u001b[0m \u001b[0;31m# Plot the results\u001b[0m\u001b[0;34m\u001b[0m\u001b[0;34m\u001b[0m\u001b[0m\n\u001b[0;32m---> 30\u001b[0;31m \u001b[0mplot_simulation_grid\u001b[0m\u001b[0;34m(\u001b[0m\u001b[0msim_outputs\u001b[0m\u001b[0;34m,\u001b[0m \u001b[0mtitles\u001b[0m\u001b[0;34m)\u001b[0m\u001b[0;34m\u001b[0m\u001b[0;34m\u001b[0m\u001b[0m\n\u001b[0m",
            "\u001b[0;32m/tmp/ipython-input-15-2158280389.py\u001b[0m in \u001b[0;36mplot_simulation_grid\u001b[0;34m(sim_outputs, titles)\u001b[0m\n\u001b[1;32m     54\u001b[0m   \u001b[0;32mfor\u001b[0m \u001b[0mi\u001b[0m\u001b[0;34m,\u001b[0m \u001b[0mE\u001b[0m \u001b[0;32min\u001b[0m \u001b[0menumerate\u001b[0m\u001b[0;34m(\u001b[0m\u001b[0msim_outputs\u001b[0m\u001b[0;34m)\u001b[0m\u001b[0;34m:\u001b[0m\u001b[0;34m\u001b[0m\u001b[0;34m\u001b[0m\u001b[0m\n\u001b[1;32m     55\u001b[0m     \u001b[0mtitle\u001b[0m \u001b[0;34m=\u001b[0m \u001b[0mtitles\u001b[0m\u001b[0;34m[\u001b[0m\u001b[0mi\u001b[0m\u001b[0;34m]\u001b[0m \u001b[0;32mif\u001b[0m \u001b[0mtitles\u001b[0m \u001b[0;32melse\u001b[0m \u001b[0;34mf\"Sim {i+1}\"\u001b[0m\u001b[0;34m\u001b[0m\u001b[0;34m\u001b[0m\u001b[0m\n\u001b[0;32m---> 56\u001b[0;31m     \u001b[0mplot_histogram_with_cdf\u001b[0m\u001b[0;34m(\u001b[0m\u001b[0mE\u001b[0m\u001b[0;34m,\u001b[0m \u001b[0mtitle\u001b[0m\u001b[0;34m=\u001b[0m\u001b[0mtitle\u001b[0m\u001b[0;34m,\u001b[0m \u001b[0max\u001b[0m\u001b[0;34m=\u001b[0m\u001b[0maxes\u001b[0m\u001b[0;34m[\u001b[0m\u001b[0mi\u001b[0m\u001b[0;34m]\u001b[0m\u001b[0;34m)\u001b[0m\u001b[0;34m\u001b[0m\u001b[0;34m\u001b[0m\u001b[0m\n\u001b[0m\u001b[1;32m     57\u001b[0m \u001b[0;34m\u001b[0m\u001b[0m\n\u001b[1;32m     58\u001b[0m   \u001b[0;31m# Hide any unused axes\u001b[0m\u001b[0;34m\u001b[0m\u001b[0;34m\u001b[0m\u001b[0m\n",
            "\u001b[0;32m/tmp/ipython-input-15-2158280389.py\u001b[0m in \u001b[0;36mplot_histogram_with_cdf\u001b[0;34m(E, title, ax)\u001b[0m\n\u001b[1;32m     20\u001b[0m   \u001b[0max1\u001b[0m\u001b[0;34m.\u001b[0m\u001b[0mset_ylim\u001b[0m\u001b[0;34m(\u001b[0m\u001b[0;36m0\u001b[0m\u001b[0;34m,\u001b[0m \u001b[0;36m1\u001b[0m\u001b[0;34m)\u001b[0m\u001b[0;34m\u001b[0m\u001b[0;34m\u001b[0m\u001b[0m\n\u001b[1;32m     21\u001b[0m \u001b[0;34m\u001b[0m\u001b[0m\n\u001b[0;32m---> 22\u001b[0;31m   \u001b[0max2\u001b[0m \u001b[0;34m=\u001b[0m \u001b[0max1\u001b[0m\u001b[0;34m.\u001b[0m\u001b[0mtwinx\u001b[0m\u001b[0;34m(\u001b[0m\u001b[0mzorder\u001b[0m\u001b[0;34m=\u001b[0m\u001b[0;36m0\u001b[0m\u001b[0;34m)\u001b[0m\u001b[0;34m\u001b[0m\u001b[0;34m\u001b[0m\u001b[0m\n\u001b[0m\u001b[1;32m     23\u001b[0m   sns.histplot(E, bins=50, stat='density', ax=ax2,\n\u001b[1;32m     24\u001b[0m               color='steelblue', alpha=0.7, edgecolor='none', zorder=4)\n",
            "\u001b[0;31mTypeError\u001b[0m: _AxesBase.twinx() got an unexpected keyword argument 'zorder'"
          ]
        },
        {
          "output_type": "display_data",
          "data": {
            "text/plain": [
              "<Figure size 1800x800 with 6 Axes>"
            ],
            "image/png": "[encoded data removed]"
          },
          "metadata": {}
        }
      ]
    },
    {
      "cell_type": "code",
      "source": [],
      "metadata": {
        "id": "Sh72GkEtkXZj"
      },
      "execution_count": null,
      "outputs": []
    }
  ]
}